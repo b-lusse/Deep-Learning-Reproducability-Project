{
  "nbformat": 4,
  "nbformat_minor": 0,
  "metadata": {
    "colab": {
      "name": "miRNA_predict_colorectal.ipynb",
      "provenance": [],
      "collapsed_sections": [],
      "machine_shape": "hm"
    },
    "kernelspec": {
      "name": "python3",
      "display_name": "Python 3"
    }
  },
  "cells": [
    {
      "cell_type": "markdown",
      "metadata": {
        "id": "ri0-n83Yaono",
        "colab_type": "text"
      },
      "source": [
        "# Reproducing from scratch using colorectal miRNA data\n",
        "\n",
        "Because we did not manage to reproduce Table 2 using the code of the authors, we were wondering if it was possible if we built the network ourselves.\n",
        "\n",
        "Because of the limited time we had left, we kept it really to the basics. \n",
        "We tried building the network for miRNA data and for gene expression data, both without multimodal dropout. For the gene expression data we encountered troubles with the RAM memory (25 GB) when splitting the data into train and test set. \n",
        "This is why we only finished the simple network for miRNA data, of which the data is way smaller.\n",
        "\n",
        "\n",
        "\n",
        "---\n",
        "\n",
        "\n",
        "\n"
      ]
    },
    {
      "cell_type": "markdown",
      "metadata": {
        "id": "Bl2rQh7mbzMa",
        "colab_type": "text"
      },
      "source": [
        "**Importing required modules**\n",
        "\n",
        "The following section shows mounting to google drive and importing the required modules. These modules can be found on our GitHub page. "
      ]
    },
    {
      "cell_type": "code",
      "metadata": {
        "id": "M-2tGIUOjLxZ",
        "colab_type": "code",
        "colab": {}
      },
      "source": [
        "from google.colab import drive\n",
        "drive.mount('/content/drive')\n",
        "\n",
        "import sys\n",
        "from itertools import *\n",
        "\n",
        "import numpy as np\n",
        "import pandas as pd\n",
        "import json\n",
        "import csv\n",
        "import pickle\n",
        "import gzip\n",
        "\n",
        "import torch\n",
        "import torch.nn as nn\n",
        "import torch.nn.functional as F\n",
        "import torch.optim as optim\n",
        "\n",
        "from sklearn.model_selection import train_test_split\n",
        "from sklearn.preprocessing import StandardScaler\n",
        "\n",
        "!pip install lifelines\n",
        "from lifelines import utils\n",
        "\n",
        "%cd 'drive/My Drive/Reproducibility_Project/MultimodalPrognosis-master/'\n",
        "\n",
        "sys.path.append('/content/drive/My Drive/Reproducibility_Project/MultimodalPrognosis-master/')\n",
        "from one_hot_encoding_clinical_dataset import *\n",
        "from modules import Highway"
      ],
      "execution_count": 0,
      "outputs": []
    },
    {
      "cell_type": "markdown",
      "metadata": {
        "id": "C0JEnNs3b_07",
        "colab_type": "text"
      },
      "source": [
        "**Loading the data**\n",
        "\n",
        "Although we did not use clinical data here as a modality to train, we do needed to import it for our target values: vital status and days to death.\n",
        "\n",
        "Furthermore, we loaded the miRNA dataset. Here we only loaded the miRNA data of the colorectal cancer types READ and COAD, because of limited time. The model is easy to extend and to use for all cancer types to train on.\n"
      ]
    },
    {
      "cell_type": "code",
      "metadata": {
        "id": "pBxvYt6SjRiL",
        "colab_type": "code",
        "colab": {}
      },
      "source": [
        "## Load data\n",
        "cancer_data = pd.read_csv('data/pancancer_biospecimen (1).csv', sep='\\t', index_col=False) \n",
        "cases = []\n",
        "cancer_types = []\n",
        "for row in cancer_data['barcode']:\n",
        "  case = row.split('-')[0:3]\n",
        "  case = \"-\".join(case)\n",
        "  cases.append(case)\n",
        "for row in cancer_data['project']:\n",
        "  cancer_type = row.split('-')[1]\n",
        "  cancer_types.append(cancer_type)\n",
        "\n",
        "with open('data/original_clinical_dataset.json') as f:\n",
        "  clinical = json.load(f)\n",
        "\n",
        "clinical_data = np.empty((len(clinical),43),).astype(float)\n",
        "ID_ref = np.empty(len(clinical)).astype(object)\n",
        "vital_status = np.empty((len(clinical),1))\n",
        "days_to_death = np.empty((len(clinical),1))\n",
        "j=0\n",
        "for line in clinical:\n",
        "  err = 0\n",
        "  if 'diagnoses' in line:\n",
        "    ID = line['diagnoses'][0]['submitter_id'].split(\"_\")[0]\n",
        "    ID_ref[j] = ID\n",
        "    try:\n",
        "      index = cases.index(ID)\n",
        "    except ValueError: ## Some patients were not present in biospecimen file. This surpresses error message \n",
        "      err = 1\n",
        "      \n",
        "    if err == 1:\n",
        "      clinical_data[j] = np.concatenate((np.array([None]),np.array([None]),np.zeros(5),np.zeros(36)),axis=0)\n",
        "    else:\n",
        "      disease = cancer_types[index]\n",
        "      keys = ['gender','age_at_index','race']\n",
        "      if not all(key in line['demographic'] for key in keys): clinical_data[j] = np.concatenate((np.array([None]),np.array([None]),np.zeros(5),np.zeros(36)),axis=0)\n",
        "      clinical_data[j] = np.concatenate((encoding_gender(line['demographic']['gender']),np.array([line['demographic']['age_at_index']]),encoding_race(line['demographic']['race']),encoding_cancer_type(disease)),axis=0)\n",
        "      vital_status[j] = encoding_vital_status(line['demographic']['vital_status'])\n",
        "      if 'days_to_death' in line['demographic']:\n",
        "        days_to_death[j] = line['demographic']['days_to_death']\n",
        "      else:\n",
        "        days_to_death[j] = 20000    \n",
        "\n",
        "  else:\n",
        "    clinical_data[j] = np.concatenate((np.array([None]),np.array([None]),np.zeros(5),np.zeros(36)),axis=0)\n",
        "  j+=1\n",
        "\n",
        "with gzip.open('data/output/miRNA/colorectal_READ_miRNA_data.pkl','rb') as f:\n",
        "        miRNA_out = pickle.load(f)\n",
        "\n",
        "miRNA_data = np.zeros((len(clinical),1881))\n",
        "for line in list(miRNA_out.index.values):\n",
        "  ID = \"-\".join(line.split('-')[0:3])\n",
        "  indx = np.where(ID_ref == ID)\n",
        "  miRNA_data[indx] = miRNA_out.loc[line] \n",
        "\n",
        "with gzip.open('data/output/miRNA/colorectal_COAD_miRNA_data.pkl','rb') as f:\n",
        "        miRNA_out = pickle.load(f)\n",
        "\n",
        "for line in list(miRNA_out.index.values):\n",
        "  ID = \"-\".join(line.split('-')[0:3])\n",
        "  indx = np.where(ID_ref == ID)\n",
        "  miRNA_data[indx] = miRNA_out.loc[line] \n",
        "\n",
        "nonzero_values = ~np.all(miRNA_data == 0, axis=1)\n",
        "miRNA_data = miRNA_data[nonzero_values]\n",
        "\n",
        "vital_status = vital_status[nonzero_values]\n",
        "vital_status = torch.tensor(vital_status).long()\n",
        "\n",
        "days_to_death = days_to_death[nonzero_values]\n",
        "days_to_death = torch.tensor(days_to_death).float()"
      ],
      "execution_count": 0,
      "outputs": []
    },
    {
      "cell_type": "markdown",
      "metadata": {
        "id": "2QkL337pcwC6",
        "colab_type": "text"
      },
      "source": [
        "**Preprocessing and splitting in train and test set**\n",
        "\n",
        "Before entering the data into the network for training, the data is preprocessed with feature-level mean centering and the use of a logarithm. Then we made a tensor out if the data, to make it suitable for training in the neural network.\n",
        "\n",
        "After this step we split the data in train and test set in ratio 85/15 as mentioned in the paper. Stratifying per cancer type is not needed here, because we only work with miRNA data of colorectal cancer. This is something that should be added if more cancer types are used for training the model."
      ]
    },
    {
      "cell_type": "code",
      "metadata": {
        "id": "Mtmd-ouDjYsJ",
        "colab_type": "code",
        "colab": {}
      },
      "source": [
        "## Preprocessing \n",
        "miRNA_data = miRNA_data.astype(float)\n",
        "scaler = StandardScaler()\n",
        "scaler.fit(miRNA_data)\n",
        "miRNA_data = scaler.transform(np.log(miRNA_data+1)) \n",
        "miRNA_data = torch.tensor(miRNA_data).float()\n",
        "\n",
        "## Split data in train and test set\n",
        "miRNA_train, miRNA_test, vital_status_train, vital_status_test = train_test_split(miRNA_data, vital_status, test_size = 0.15)\n",
        "days_to_death_train, days_to_death_test = train_test_split(days_to_death, test_size = 0.15)\n"
      ],
      "execution_count": 0,
      "outputs": []
    },
    {
      "cell_type": "markdown",
      "metadata": {
        "id": "ZTTh9zwpeOt7",
        "colab_type": "text"
      },
      "source": [
        "**The Network**\n",
        "\n",
        "The network is built using the following architecture mentioned in the paper:\n",
        "\n",
        "![image.png](data:image/png;base64,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)\n",
        "\n",
        "There are two outcomes. The first one is presented as a score, which consists of two values. These are the predictions for a patient of being either dead or alive.\n",
        "In the loss function, this score is compared to the vital status using the PyTorch inbuilt negative log likelihood loss.\n",
        "Because of limited time we did not manage to adjust the loss function so that it matches the Cox Loss mentioned in the paper. \n",
        "\n",
        "The second outcome is the hazard, which is a single value that corresponds to the probability of a patient passing away during any given time point. This value is used in the concordance score when testing the network on the test set. "
      ]
    },
    {
      "cell_type": "code",
      "metadata": {
        "id": "x6LFKv8qj92f",
        "colab_type": "code",
        "colab": {}
      },
      "source": [
        "## Network\n",
        "\n",
        "class Net(nn.Module):\n",
        "\n",
        "    def __init__(self):\n",
        "      super(Net, self).__init__()\n",
        "      \n",
        "      self.fcg = nn.Linear(1881,512) \n",
        "      self.highway = Highway(512,10, f=F.relu)\n",
        "      self.fc2 = nn.Linear(512,2)\n",
        "      self.fcd = nn.Linear(512,1)\n",
        "\n",
        "    def forward(self, data):\n",
        "\n",
        "        x = data\n",
        "        x = self.fcg(x)\n",
        "        x = self.highway(x)\n",
        "        x = F.dropout(x, 0.3)\n",
        "        x = F.sigmoid(x)\n",
        "\n",
        "        score = F.softmax(self.fc2(x.reshape(1,-1)))\n",
        "        hazard = self.fcd(x.reshape(1,-1))\n",
        "\n",
        "        return score, hazard\n",
        "\n",
        "    def loss(self, score, hazard, vital_status):\n",
        "        \n",
        "        loss = F.nll_loss(score, vital_status)\n",
        "\n",
        "        return loss \n",
        "\n"
      ],
      "execution_count": 0,
      "outputs": []
    },
    {
      "cell_type": "markdown",
      "metadata": {
        "id": "wnFPVIwugnCL",
        "colab_type": "text"
      },
      "source": [
        "**Training the network**\n",
        "\n",
        "We train the network for five epochs using Adam as optimizer with a learning rate of 8e-4.\n",
        "\n",
        "We encountered problems when the vital status was \"Not Reported\" in the clinical dataset. What we first did was to assign value 'None' to this, but this did not seem to work. Therefore we made an if-statement to require the vital status to be either one or zero. "
      ]
    },
    {
      "cell_type": "code",
      "metadata": {
        "id": "y0qxBtIokDnq",
        "colab_type": "code",
        "outputId": "9e9d4a3f-398c-4451-90b0-9779b2275da0",
        "colab": {
          "base_uri": "https://localhost:8080/",
          "height": 188
        }
      },
      "source": [
        "## Train Network\n",
        "net = Net()\n",
        "\n",
        "optimizer = optim.Adam(net.parameters(), lr=8e-4) #There was nothing mentioned in the paper about what optimizer and what learning rate to use, but we found this in the author's code.\n",
        "\n",
        "for epoch in range(0, 5):  # loop over the dataset multiple times\n",
        "    print(epoch)\n",
        "    for i, data in enumerate(miRNA_train, 0):\n",
        "        inputs = data\n",
        "        optimizer.zero_grad()\n",
        "\n",
        "        # forward + backward + optimize\n",
        "        score, hazard = net.forward(inputs)\n",
        "\n",
        "        # We encounterd troubles when vital_status was \"Not Reported\" (i.e. value None), so we implemented this if-statement to prevent this. \n",
        "        if vital_status_train[i] < 0:\n",
        "          vital_status_train[i] = 0\n",
        "        elif vital_status_train[i] > 1:\n",
        "          vital_status_train[i] = 1\n",
        "        else:\n",
        "          vital_status_train[i] = vital_status_train[i]\n",
        "        \n",
        "        loss = net.loss(score, hazard, vital_status_train[i])\n",
        "        loss.backward()\n",
        "        optimizer.step()\n",
        "\n",
        "print('Finished Training')"
      ],
      "execution_count": 0,
      "outputs": [
        {
          "output_type": "stream",
          "text": [
            "0\n"
          ],
          "name": "stdout"
        },
        {
          "output_type": "stream",
          "text": [
            "/usr/local/lib/python3.6/dist-packages/torch/nn/functional.py:1351: UserWarning: nn.functional.sigmoid is deprecated. Use torch.sigmoid instead.\n",
            "  warnings.warn(\"nn.functional.sigmoid is deprecated. Use torch.sigmoid instead.\")\n",
            "/usr/local/lib/python3.6/dist-packages/ipykernel_launcher.py:20: UserWarning: Implicit dimension choice for softmax has been deprecated. Change the call to include dim=X as an argument.\n"
          ],
          "name": "stderr"
        },
        {
          "output_type": "stream",
          "text": [
            "1\n",
            "2\n",
            "3\n",
            "4\n",
            "Finished Training\n"
          ],
          "name": "stdout"
        }
      ]
    },
    {
      "cell_type": "code",
      "metadata": {
        "id": "TkJvEJG8ZfFF",
        "colab_type": "code",
        "colab": {}
      },
      "source": [
        "#Save network\n",
        "\n",
        "torch.save(net, \"Results/predict_miRNA_final.pth\")"
      ],
      "execution_count": 0,
      "outputs": []
    },
    {
      "cell_type": "markdown",
      "metadata": {
        "id": "oDhXX6uYhcC_",
        "colab_type": "text"
      },
      "source": [
        "**Testing the network**\n",
        "\n",
        "After training, the network was saved and it could be tested with the test data set we already constructed. We tested for 5 epochs and took the average over 5 epochs as final performance measures.\n",
        "\n",
        "We constructed two outcome measures: accuracy and concordance score.\n"
      ]
    },
    {
      "cell_type": "code",
      "metadata": {
        "id": "VrUHL9YcaOb6",
        "colab_type": "code",
        "outputId": "12651a5b-8226-4674-ddec-dc45f3ac9593",
        "colab": {
          "base_uri": "https://localhost:8080/",
          "height": 205
        }
      },
      "source": [
        "## Test Network\n",
        "net = torch.load(\"Results/predict_miRNA_final.pth\")\n",
        "\n",
        "accuracy = np.zeros(5)\n",
        "cscore = np.zeros(5)\n",
        "\n",
        "for epoch in range(0,5):\n",
        "  print(epoch)\n",
        "  counts = 0\n",
        "  hazard = np.zeros(len(days_to_death_test))\n",
        "  \n",
        "  for i, data in enumerate(miRNA_test, 0):\n",
        "    inputs = data\n",
        "    \n",
        "    score, hazard_value = net.forward(inputs)\n",
        "    hazard_value = hazard_value.detach().numpy()\n",
        "    hazard[i] = hazard_value\n",
        "    \n",
        "    values, pred = torch.max(score, 1)\n",
        "    \n",
        "    # We encounterd troubles when vital_status was \"Not Reported\" (i.e. value None), so we implemented this if-statement to prevent this. \n",
        "    if vital_status_test[i] < 0:\n",
        "      vital_status_test[i] = 0\n",
        "    elif vital_status_test[i] > 1:\n",
        "      vital_status_test[i] = 1\n",
        "    else:\n",
        "      vital_status_test[i] = vital_status_test[i]\n",
        "      \n",
        "    if pred == vital_status_test[i]:\n",
        "      counts += 1\n",
        "  \n",
        "  accuracy[epoch] = counts / len(miRNA_test) * 100\n",
        "  days_to_death_test_array = days_to_death_test.detach().numpy()\n",
        "  days_to_death_test_array = days_to_death_test_array[:, 0]\n",
        "  vital_status_test_array = vital_status_test.detach().numpy()\n",
        "  vital_status_test_array = vital_status_test_array[:, 0]\n",
        "  cscore[epoch] = utils.concordance_index(days_to_death_test_array, -hazard, np.logical_not(vital_status_test_array))\n",
        "\n",
        "#Accuracy\n",
        "accuracy = np.mean(accuracy)\n",
        "print(\"Accuracy\", accuracy)\n",
        "\n",
        "#C-score\n",
        "cscore = np.mean(cscore)\n",
        "print(\"Concordance score\", cscore)\n"
      ],
      "execution_count": 0,
      "outputs": [
        {
          "output_type": "stream",
          "text": [
            "0\n"
          ],
          "name": "stdout"
        },
        {
          "output_type": "stream",
          "text": [
            "/usr/local/lib/python3.6/dist-packages/torch/nn/functional.py:1351: UserWarning: nn.functional.sigmoid is deprecated. Use torch.sigmoid instead.\n",
            "  warnings.warn(\"nn.functional.sigmoid is deprecated. Use torch.sigmoid instead.\")\n",
            "/usr/local/lib/python3.6/dist-packages/ipykernel_launcher.py:20: UserWarning: Implicit dimension choice for softmax has been deprecated. Change the call to include dim=X as an argument.\n"
          ],
          "name": "stderr"
        },
        {
          "output_type": "stream",
          "text": [
            "1\n",
            "2\n",
            "3\n",
            "4\n",
            "Accuracy 71.7948717948718\n",
            "Concordance score 0.5226666666666666\n"
          ],
          "name": "stdout"
        }
      ]
    },
    {
      "cell_type": "markdown",
      "metadata": {
        "id": "p91WLRNph2i7",
        "colab_type": "text"
      },
      "source": [
        "**Results**\n",
        "\n",
        "After five epochs we ended up with an accuracy of 71.8% and a concordance score of 0.52."
      ]
    }
  ]
}