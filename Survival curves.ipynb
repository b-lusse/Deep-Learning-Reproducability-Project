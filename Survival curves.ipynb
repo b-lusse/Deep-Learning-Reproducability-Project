{
 "cells": [
  {
   "cell_type": "markdown",
   "metadata": {},
   "source": [
    "# Reproducability of survival curves by *Cheerla and Gevaert* [2019] (Figure 1)\n",
    "\n",
    "## By Staf Bauer, Ilva van Houwelingen and Bryan Lusse\n",
    "\n",
    "### loading packages and initializing functions"
   ]
  },
  {
   "cell_type": "code",
   "execution_count": 1,
   "metadata": {
    "scrolled": true
   },
   "outputs": [],
   "source": [
    "import json\n",
    "import numpy as np\n",
    "import matplotlib.pyplot as plt\n",
    "from lifelines import KaplanMeierFitter\n",
    "import csv\n",
    "\n",
    "def load_tester(path):\n",
    "    \"\"\"Function to load JSON clinical data\n",
    "    path = directory to file or name of file if in same directory as code file\n",
    "    returns:\n",
    "    data = list of JSON data\n",
    "    \"\"\"\n",
    "    with open(path) as f:\n",
    "        data = json.load(f)\n",
    "    return data\n",
    "\n",
    "def load_biospecimen(path):\n",
    "    \"\"\"Function to load csv biospecimen data\n",
    "    path = directory to file or name of file if in same directory as code file\n",
    "    returns:\n",
    "    barcodes = barcodes of samples\n",
    "    cancer_types = Cancer types of samples, TCGA abbreviations\n",
    "    \"\"\"\n",
    "    with open(path) as csvfile:\n",
    "        readCSV = csv.reader(csvfile, delimiter='\\t')\n",
    "        barcodes = []\n",
    "        cancer_types = []\n",
    "        i=0\n",
    "        for row in readCSV:\n",
    "            if i==0:\n",
    "                pass\n",
    "            else:\n",
    "                barcode = row[3].split('-')[0:3]\n",
    "                barcode = '-'.join(barcode)\n",
    "                cancer_type = row[4].split('-')[1]\n",
    "        \n",
    "                barcodes.append(barcode)\n",
    "                cancer_types.append(cancer_type)\n",
    "            i+=1\n",
    "    return barcodes, cancer_types\n",
    "\n",
    "def find_time_of_death(data,indices):\n",
    "    \"\"\"Function to find time and occurences of death\n",
    "    data = list of JSON data\n",
    "    indices = indices of data corresponding to a certain cancer type\n",
    "    returns:\n",
    "    death_time = time of death, in amount of days, since diagnosis \n",
    "    deaths = list that is 0 for a survivor and 1 for a deceased patient\n",
    "    \"\"\"\n",
    "    death_time = []\n",
    "    deaths = []\n",
    "    for i in indices:\n",
    "        if 'days_to_death' in data[i]['demographic']:\n",
    "            death_time.append(data[i]['demographic']['days_to_death'])\n",
    "            deaths.append(1)\n",
    "        else:\n",
    "            death_time.append(-1)\n",
    "            deaths.append(0)\n",
    "    max_time = max(filter(None,death_time))\n",
    "    for j in range(0,len(indices)):\n",
    "        if death_time[j] == -1 or death_time[j] == None:\n",
    "            death_time[j] = max_time\n",
    "    return death_time, deaths"
   ]
  },
  {
   "cell_type": "markdown",
   "metadata": {},
   "source": [
    "### Load data"
   ]
  },
  {
   "cell_type": "code",
   "execution_count": 2,
   "metadata": {},
   "outputs": [],
   "source": [
    "data = load_tester('original_clinical_dataset.json')\n",
    "barcodes, cancer_types = load_biospecimen('pancancer_biospecimen.csv')    "
   ]
  },
  {
   "cell_type": "markdown",
   "metadata": {},
   "source": [
    "### Find different cancer types\n",
    "Data analysis for high surviving cancer types"
   ]
  },
  {
   "cell_type": "code",
   "execution_count": 3,
   "metadata": {},
   "outputs": [],
   "source": [
    "## Initialize dictionary for cancer types\n",
    "## These store indices of corresponding cancers\n",
    "\n",
    "Types = {}\n",
    "Types['ACC'] = []\n",
    "Types['BRCA'] = []\n",
    "Types['CESC'] = []\n",
    "Types['DLBC'] = []\n",
    "Types['KICH'] = []\n",
    "Types['KIRC'] = []\n",
    "Types['KIRP'] = []\n",
    "Types['OV'] = []\n",
    "Types['PCPG'] = []\n",
    "Types['PRAD'] = []\n",
    "Types['SARC'] = []\n",
    "Types['SKCM'] = []\n",
    "Types['TGCT'] = []\n",
    "Types['THCA'] = []\n",
    "Types['THYM'] = []\n",
    "Types['UCEC'] = []\n",
    "Types['BLCA'] = []\n",
    "Types['CHOL'] = []\n",
    "Types['COAD'] = []\n",
    "Types['ESCA'] = []\n",
    "Types['GBM'] = []\n",
    "Types['HNSC'] = []\n",
    "Types['LGG'] = []\n",
    "Types['LIHC'] = []\n",
    "Types['LUAD'] = []\n",
    "Types['LUSC'] = []\n",
    "Types['MESO'] = []\n",
    "Types['PAAD'] = []\n",
    "Types['READ'] = []\n",
    "Types['STAD'] = []\n",
    "Types['UCS'] = []\n",
    "Types['UVM'] = []\n",
    "## initialize counter\n",
    "i=0\n",
    "for line in data:\n",
    "    err = 0 \n",
    "    if 'demographic' in line: ## check if entry has demographic data\n",
    "        try:\n",
    "            index = barcodes.index(line['demographic']['submitter_id'].split(\"_\")[0]) ## Get submitterID and crossreference with cancers in biospecimen file\n",
    "        except ValueError: ## Some patients were not present in biospecimen file. This surpresses error message \n",
    "            err = 1\n",
    "        \n",
    "        if err == 1:\n",
    "            pass\n",
    "        else:\n",
    "            cancer = cancer_types[index] ## Check if cancer is one of the wanted cancer types\n",
    "            if cancer in Types:\n",
    "                Types[cancer].append(i)\n",
    "    i+=1"
   ]
  },
  {
   "cell_type": "markdown",
   "metadata": {},
   "source": [
    "### Calculate death times and occurences of deaths"
   ]
  },
  {
   "cell_type": "code",
   "execution_count": 4,
   "metadata": {},
   "outputs": [],
   "source": [
    "## High surviving cancers\n",
    "ACC_times,ACC_deaths = find_time_of_death(data,Types['ACC'])\n",
    "BRCA_times,BRCA_deaths = find_time_of_death(data,Types['BRCA'])\n",
    "CESC_times,CESC_deaths = find_time_of_death(data,Types['CESC'])\n",
    "DLBC_times,DLBC_deaths = find_time_of_death(data,Types['DLBC'])\n",
    "KICH_times,KICH_deaths = find_time_of_death(data,Types['KICH'])\n",
    "KIRC_times,KIRC_deaths = find_time_of_death(data,Types['KIRC'])\n",
    "KIRP_times,KIRP_deaths = find_time_of_death(data,Types['KIRP'])\n",
    "OV_times,OV_deaths = find_time_of_death(data,Types['OV'])\n",
    "PCPG_times,PCPG_deaths = find_time_of_death(data,Types['PCPG'])\n",
    "PRAD_times,PRAD_deaths = find_time_of_death(data,Types['PRAD'])\n",
    "SARC_times,SARC_deaths = find_time_of_death(data,Types['SARC'])\n",
    "SKCM_times,SKCM_deaths = find_time_of_death(data,Types['SKCM'])\n",
    "TGCT_times,TGCT_deaths = find_time_of_death(data,Types['TGCT'])\n",
    "THCA_times,THCA_deaths = find_time_of_death(data,Types['THCA'])\n",
    "THYM_times,THYM_deaths = find_time_of_death(data,Types['THYM'])\n",
    "UCEC_times,UCEC_deaths = find_time_of_death(data,Types['UCEC'])\n",
    "\n",
    "## Low surviving cancers\n",
    "BLCA_times,BLCA_deaths = find_time_of_death(data,Types['BLCA'])\n",
    "CHOL_times,CHOL_deaths = find_time_of_death(data,Types['CHOL'])\n",
    "COAD_times,COAD_deaths = find_time_of_death(data,Types['COAD'])\n",
    "ESCA_times,ESCA_deaths = find_time_of_death(data,Types['ESCA'])\n",
    "GBM_times,GBM_deaths = find_time_of_death(data,Types['GBM'])\n",
    "HNSC_times,HNSC_deaths = find_time_of_death(data,Types['HNSC'])\n",
    "LGG_times,LGG_deaths = find_time_of_death(data,Types['LGG'])\n",
    "LIHC_times,LIHC_deaths = find_time_of_death(data,Types['LIHC'])\n",
    "LUAD_times,LUAD_deaths = find_time_of_death(data,Types['LUAD'])\n",
    "LUSC_times,LUSC_deaths = find_time_of_death(data,Types['LUSC'])\n",
    "MESO_times,MESO_deaths = find_time_of_death(data,Types['MESO'])\n",
    "PAAD_times,PAAD_deaths = find_time_of_death(data,Types['PAAD'])\n",
    "READ_times,READ_deaths = find_time_of_death(data,Types['READ'])\n",
    "STAD_times,STAD_deaths = find_time_of_death(data,Types['STAD'])\n",
    "UCS_times,UCS_deaths = find_time_of_death(data,Types['UCS'])\n",
    "UVM_times,UVM_deaths = find_time_of_death(data,Types['UVM'])\n"
   ]
  },
  {
   "cell_type": "markdown",
   "metadata": {},
   "source": [
    "### Plot survival curves\n",
    "Plotting done using _Kaplan-Meier fitting_"
   ]
  },
  {
   "cell_type": "code",
   "execution_count": 14,
   "metadata": {
    "scrolled": false
   },
   "outputs": [
    {
     "data": {
      "text/plain": [
       "<matplotlib.legend.Legend at 0x1a19ad3f60>"
      ]
     },
     "execution_count": 14,
     "metadata": {},
     "output_type": "execute_result"
    },
    {
     "data": {
      "image/png": "[encoded data removed]",
      "text/plain": [
       "<Figure size 1080x432 with 2 Axes>"
      ]
     },
     "metadata": {
      "needs_background": "light"
     },
     "output_type": "display_data"
    }
   ],
   "source": [
    "#High surviving cancers\n",
    "plt.figure(figsize=(15, 6))\n",
    "plt.subplot(121)\n",
    "## create a kmf object\n",
    "kmf = KaplanMeierFitter() \n",
    "\n",
    "## Fit the data into the model and plot\n",
    "kmf.fit(ACC_times, ACC_deaths,label='ACC')\n",
    "kmf.plot(ci_show=False,linewidth=0.5, color='red')\n",
    "kmf.fit(BRCA_times, BRCA_deaths,label='BRCA')\n",
    "kmf.plot(ci_show=False,linewidth=0.5, color='green')\n",
    "kmf.fit(CESC_times, CESC_deaths,label='CESC')\n",
    "kmf.plot(ci_show=False,linewidth=0.5, color='yellow')\n",
    "kmf.fit(DLBC_times, DLBC_deaths,label='DLBC')\n",
    "kmf.plot(ci_show=False,linewidth=0.5, color='mediumblue')\n",
    "kmf.fit(KICH_times,KICH_deaths,label='KICH')\n",
    "kmf.plot(ci_show=False,linewidth=0.5, color='orange')\n",
    "kmf.fit(KIRC_times,KIRC_deaths,label='KIRC')\n",
    "kmf.plot(ci_show=False,linewidth=0.5, color='purple')\n",
    "kmf.fit(KIRP_times,KIRP_deaths,label='KIRP')\n",
    "kmf.plot(ci_show=False,linewidth=0.5, color='lightskyblue')\n",
    "kmf.fit(OV_times,OV_deaths,label='OV')\n",
    "kmf.plot(ci_show=False,linewidth=0.5, color='mediumvioletred')\n",
    "kmf.fit(PCPG_times,PCPG_deaths,label='PCPG')\n",
    "kmf.plot(ci_show=False,linewidth=0.5, color='yellowgreen')\n",
    "kmf.fit(PRAD_times,PRAD_deaths,label='PRAD')\n",
    "kmf.plot(ci_show=False,linewidth=0.5, color='salmon')\n",
    "kmf.fit(SARC_times,SARC_deaths,label='SARC')\n",
    "kmf.plot(ci_show=False,linewidth=0.5, color='teal')\n",
    "kmf.fit(SKCM_times,SKCM_deaths,label='SKCM')\n",
    "kmf.plot(ci_show=False,linewidth=0.5, color='plum')\n",
    "kmf.fit(TGCT_times,TGCT_deaths,label='TGCT')\n",
    "kmf.plot(ci_show=False,linewidth=0.5, color='maroon')\n",
    "kmf.fit(THCA_times,THCA_deaths,label='THCA')\n",
    "kmf.plot(ci_show=False,linewidth=0.5, color='darkblue')\n",
    "kmf.fit(THYM_times,THYM_deaths,label='THYM')\n",
    "kmf.plot(ci_show=False,linewidth=0.5, color='grey')\n",
    "kmf.fit(UCEC_times,UCEC_deaths,label='UCEC')\n",
    "kmf.plot(ci_show=False,linewidth=0.5, color='black')\n",
    "\n",
    "# edit plot layout\n",
    "plt.gca().spines['right'].set_visible(False)\n",
    "plt.gca().spines['top'].set_visible(False)\n",
    "plt.gca().set_xlim(-500,13000)\n",
    "plt.gca().set_ylim(-0.05,1.05)\n",
    "plt.xticks([0,3000,6000,9000,12000])\n",
    "plt.yticks([0,0.25,0.50,0.75,1.0])\n",
    "plt.xlabel('Time (days)')\n",
    "plt.ylabel('Survival probability')\n",
    "plt.title('Survival curve for high survivers')\n",
    "plt.legend(bbox_to_anchor=(0.9,1.3), ncol=4, frameon=False)\n",
    "\n",
    "# ---------------------------------------------------------------------- 2nd plot\n",
    "# Low surviving cancers\n",
    "plt.subplot(122)\n",
    "\n",
    "## Fit the data into the model and plot\n",
    "kmf.fit(BLCA_times, BLCA_deaths,label='BLCA')\n",
    "kmf.plot(ci_show=False,linewidth=0.5, color='red')\n",
    "kmf.fit(CHOL_times, CHOL_deaths,label='CHOL')\n",
    "kmf.plot(ci_show=False,linewidth=0.5, color='green')\n",
    "kmf.fit(COAD_times, COAD_deaths,label='COAD')\n",
    "kmf.plot(ci_show=False,linewidth=0.5, color='yellow')\n",
    "kmf.fit(ESCA_times, ESCA_deaths,label='ESCA')\n",
    "kmf.plot(ci_show=False,linewidth=0.5, color='mediumblue')\n",
    "kmf.fit(GBM_times,GBM_deaths,label='GBM')\n",
    "kmf.plot(ci_show=False,linewidth=0.5, color='orange')\n",
    "kmf.fit(HNSC_times,HNSC_deaths,label='HNSC')\n",
    "kmf.plot(ci_show=False,linewidth=0.5, color='purple')\n",
    "kmf.fit(LGG_times,LGG_deaths,label='LGG')\n",
    "kmf.plot(ci_show=False,linewidth=0.5, color='lightskyblue')\n",
    "kmf.fit(LIHC_times,LIHC_deaths,label='LIHC')\n",
    "kmf.plot(ci_show=False,linewidth=0.5, color='mediumvioletred')\n",
    "kmf.fit(LUAD_times,LUAD_deaths,label='LUAD')\n",
    "kmf.plot(ci_show=False,linewidth=0.5, color='yellowgreen')\n",
    "kmf.fit(LUSC_times,LUSC_deaths,label='LUSC')\n",
    "kmf.plot(ci_show=False,linewidth=0.5, color='salmon')\n",
    "kmf.fit(MESO_times,MESO_deaths,label='MESO')\n",
    "kmf.plot(ci_show=False,linewidth=0.5, color='teal')\n",
    "kmf.fit(PAAD_times,PAAD_deaths,label='PAAD')\n",
    "kmf.plot(ci_show=False,linewidth=0.5, color='plum')\n",
    "kmf.fit(READ_times,READ_deaths,label='READ')\n",
    "kmf.plot(ci_show=False,linewidth=0.5, color='maroon')\n",
    "kmf.fit(STAD_times,STAD_deaths,label='STAD')\n",
    "kmf.plot(ci_show=False,linewidth=0.5, color='darkblue')\n",
    "kmf.fit(UCS_times,UCS_deaths,label='UCS')\n",
    "kmf.plot(ci_show=False,linewidth=0.5, color='grey')\n",
    "kmf.fit(UVM_times,UVM_deaths,label='UVM')\n",
    "kmf.plot(ci_show=False,linewidth=0.5, color='black')\n",
    "\n",
    "# edit plot layout\n",
    "plt.gca().spines['right'].set_visible(False)\n",
    "plt.gca().spines['top'].set_visible(False)\n",
    "plt.gca().set_xlim(-500,13000)\n",
    "plt.gca().set_ylim(-0.05,1.05)\n",
    "plt.xticks([0,3000,6000,9000,12000])\n",
    "plt.yticks([0,0.25,0.50,0.75,1.0])\n",
    "plt.xlabel('Time (days)')\n",
    "plt.ylabel('Survival probability')\n",
    "plt.title('Survival curve for low survivers')\n",
    "plt.legend(bbox_to_anchor=(0.9,1.3), ncol=4, frameon=False)"
   ]
  },
  {
   "cell_type": "code",
   "execution_count": 252,
   "metadata": {},
   "outputs": [
    {
     "name": "stdout",
     "output_type": "stream",
     "text": [
      "The total amount of data entries is 10965\n"
     ]
    }
   ],
   "source": [
    "print(\"The total amount of data entries is\",sum([len(Types[x]) for x in Types if isinstance(Types[x], list)])) "
   ]
  }
 ],
 "metadata": {
  "kernelspec": {
   "display_name": "Python 3",
   "language": "python",
   "name": "python3"
  },
  "language_info": {
   "codemirror_mode": {
    "name": "ipython",
    "version": 3
   },
   "file_extension": ".py",
   "mimetype": "text/x-python",
   "name": "python",
   "nbconvert_exporter": "python",
   "pygments_lexer": "ipython3",
   "version": "3.7.3"
  }
 },
 "nbformat": 4,
 "nbformat_minor": 2
}
